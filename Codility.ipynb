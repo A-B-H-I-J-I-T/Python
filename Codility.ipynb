{
 "cells": [
  {
   "cell_type": "code",
   "execution_count": 1,
   "metadata": {},
   "outputs": [
    {
     "name": "stdout",
     "output_type": "stream",
     "text": [
      "edcba\n"
     ]
    }
   ],
   "source": [
    "def reverse_str(string_in):\n",
    "    if len(string_in)==1:\n",
    "        return string_in\n",
    "    return reverse_str(string_in[1:])+string_in[0]\n",
    "\n",
    "print(reverse_str('abcde'))"
   ]
  },
  {
   "cell_type": "code",
   "execution_count": 39,
   "metadata": {},
   "outputs": [
    {
     "name": "stdout",
     "output_type": "stream",
     "text": [
      "[10, 9, 9]\n"
     ]
    }
   ],
   "source": [
    "#find the largest 3 integers in the given list\n",
    "def max_3(lst):\n",
    "    max = 0\n",
    "    max2 = 0\n",
    "    max3 = 0\n",
    "    for e in lst:\n",
    "        if e<=max2 and e>max3:\n",
    "            max3 = e\n",
    "        if e<=max and e>max2:\n",
    "            max3 = max2\n",
    "            max2 = e\n",
    "        if e>max:\n",
    "            max3 = max2\n",
    "            max2 = max\n",
    "            max = e\n",
    "    return [max,max2,max3]\n",
    "\n",
    "\n",
    "print(max_3([8,9,9,7,1,2,3,4,4,10]))"
   ]
  }
 ],
 "metadata": {
  "kernelspec": {
   "display_name": "base",
   "language": "python",
   "name": "python3"
  },
  "language_info": {
   "codemirror_mode": {
    "name": "ipython",
    "version": 3
   },
   "file_extension": ".py",
   "mimetype": "text/x-python",
   "name": "python",
   "nbconvert_exporter": "python",
   "pygments_lexer": "ipython3",
   "version": "3.8.8"
  }
 },
 "nbformat": 4,
 "nbformat_minor": 2
}
