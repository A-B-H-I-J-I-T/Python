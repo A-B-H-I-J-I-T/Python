{
 "cells": [
  {
   "cell_type": "markdown",
   "metadata": {},
   "source": [
    "The task is essentially based on the fourth task of the first assignment:\n",
    "(a) The given program reads a number (size) via the scanner andthen creates an array\n",
    "with the size of the inputted number\n",
    "(b) At each index in the array, the array should be given the value of the square of the index\n",
    "(c) The values in the array should then be printed in the console\n",
    "Now modify (b) and (c) in this program as follows:\n",
    "(b’) Change the program so that as many numbers are stored in the array as the size of the\n",
    "array allows. The numbers should be read by the scanner and stored in the array.\n",
    "(c’) The output should take place in reverse order (i.e. the last input as the first output).\n",
    "The input “5 0 1 2 3 4” therefore becomes “4 3 2 1 0”. Remember, the first number\n",
    "(namely 5) is only the size of the array and therefore is not part of the sequence. When\n",
    "evaluating, you will see further example sequences that your program must reproduce."
   ]
  },
  {
   "cell_type": "code",
   "execution_count": 26,
   "metadata": {},
   "outputs": [
    {
     "name": "stdout",
     "output_type": "stream",
     "text": [
      "5\n",
      "4\n",
      "3\n",
      "2\n",
      "1\n",
      "5\n",
      "4\n",
      "3\n",
      "2\n",
      "1\n",
      "[5, 4, 3, 2, 1]\n"
     ]
    }
   ],
   "source": [
    "#a\n",
    "# usr_inpt = input(\"Enter a value\")\n",
    "# initialvalue = 0\n",
    "# lst = [initialvalue]* int(usr_inpt)\n",
    "# print(len(lst))\n",
    "#d\n",
    "my_list = [1, 2, 3, 4, 5]\n",
    "for i in range(len(my_list)-1,-1,-1):\n",
    "    print(my_list[i])\n",
    "\n",
    "for i in reversed(my_list):\n",
    "    print(i)\n",
    "\n",
    "print(my_list[::-1])"
   ]
  },
  {
   "cell_type": "code",
   "execution_count": null,
   "metadata": {},
   "outputs": [],
   "source": []
  }
 ],
 "metadata": {
  "kernelspec": {
   "display_name": "base",
   "language": "python",
   "name": "python3"
  },
  "language_info": {
   "codemirror_mode": {
    "name": "ipython",
    "version": 3
   },
   "file_extension": ".py",
   "mimetype": "text/x-python",
   "name": "python",
   "nbconvert_exporter": "python",
   "pygments_lexer": "ipython3",
   "version": "3.8.8"
  }
 },
 "nbformat": 4,
 "nbformat_minor": 2
}
