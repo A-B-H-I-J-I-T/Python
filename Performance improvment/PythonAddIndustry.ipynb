{
 "cells": [
  {
   "cell_type": "code",
   "execution_count": 1,
   "metadata": {},
   "outputs": [],
   "source": [
    "import pandas as pd\n",
    "import requests\n",
    "import psycopg2\n",
    "from psycopg2 import sql\n"
   ]
  },
  {
   "cell_type": "markdown",
   "metadata": {},
   "source": [
    "### Extract customer id and email from the table customer"
   ]
  },
  {
   "cell_type": "code",
   "execution_count": 2,
   "metadata": {},
   "outputs": [
    {
     "name": "stdout",
     "output_type": "stream",
     "text": [
      "           id                      contact_email\n",
      "0     1023597                casparcelal@rust.de\n",
      "1     1058556         zoltanweitzel@bolander.com\n",
      "2     1011801              antonios62@scheibe.de\n",
      "3     1062069             rudolphjan@steckel.com\n",
      "4     1071647              sarinaernst@plath.org\n",
      "...       ...                                ...\n",
      "3696  1021042     nicole66@caldwell-crawford.biz\n",
      "3697  1057037    christopher90@murphy-morrow.com\n",
      "3698  1090115  racheldominguez@stevens-evans.net\n",
      "3699  1025342                 mannlisa@drake.com\n",
      "3700  1036675              jennifer20@palmer.biz\n",
      "\n",
      "[3701 rows x 2 columns]\n"
     ]
    }
   ],
   "source": [
    "db_params = {\n",
    "            \"host\":'localhost',\n",
    "            \"database\":'postgres',\n",
    "            \"user\":'postgres',\n",
    "            \"password\":'!q2W3e4r'\n",
    "            }\n",
    "\n",
    "connection = psycopg2.connect(**db_params)\n",
    "\n",
    "# the actual name of your PostgreSQL table\n",
    "table_name = 'customers'\n",
    "column_name1 = 'id'\n",
    "colum_name2 = 'contact_email'\n",
    "\n",
    "# Construct the SQL query to select all columns from the table\n",
    "query = f\"SELECT {column_name1},{colum_name2} FROM {table_name}\"\n",
    "\n",
    "# Use pandas to read the data into a DataFrame\n",
    "df = pd.read_sql_query(query, connection)\n",
    "\n",
    "# Display the DataFrame\n",
    "print(df)\n",
    "\n",
    "# Close the database connection\n",
    "connection.close()\n",
    "\n",
    "df_backup = df.copy()\n"
   ]
  },
  {
   "cell_type": "markdown",
   "metadata": {},
   "source": [
    "### Extract the domain name and get the Industry values from the API"
   ]
  },
  {
   "cell_type": "code",
   "execution_count": 3,
   "metadata": {},
   "outputs": [],
   "source": [
    "def extractDomain(x):\n",
    "    return x.strip().split('@')[1]\n",
    "\n",
    "email = df['contact_email'].apply(extractDomain)\n",
    "email.drop_duplicates(inplace=True)\n",
    "email = email.reset_index(drop=True)\n",
    "\n",
    "df = pd.DataFrame(email)\n",
    "df['industry'] = None"
   ]
  },
  {
   "cell_type": "code",
   "execution_count": 8,
   "metadata": {},
   "outputs": [
    {
     "name": "stdout",
     "output_type": "stream",
     "text": [
      "0\n",
      "An error occurred: 'organization'\n",
      "1\n",
      "An error occurred: 'organization'\n",
      "2\n",
      "An error occurred: 'organization'\n",
      "3\n",
      "An error occurred: 'organization'\n",
      "4\n",
      "An error occurred: 'organization'\n",
      "5\n",
      "An error occurred: 'organization'\n",
      "6\n",
      "An error occurred: 'organization'\n",
      "7\n",
      "An error occurred: 'organization'\n",
      "8\n",
      "An error occurred: 'organization'\n",
      "9\n",
      "An error occurred: 'organization'\n",
      "10\n",
      "An error occurred: 'organization'\n",
      "11\n",
      "An error occurred: 'organization'\n",
      "12\n",
      "An error occurred: 'organization'\n",
      "13\n",
      "An error occurred: 'organization'\n"
     ]
    },
    {
     "ename": "KeyboardInterrupt",
     "evalue": "",
     "output_type": "error",
     "traceback": [
      "\u001b[1;31m---------------------------------------------------------------------------\u001b[0m",
      "\u001b[1;31mKeyboardInterrupt\u001b[0m                         Traceback (most recent call last)",
      "\u001b[1;32md:\\Git\\Python\\Performance improvment\\PythonAddIndustry.ipynb Cell 6\u001b[0m line \u001b[0;36m<cell line: 9>\u001b[1;34m()\u001b[0m\n\u001b[0;32m     <a href='vscode-notebook-cell:/d%3A/Git/Python/Performance%20improvment/PythonAddIndustry.ipynb#W5sZmlsZQ%3D%3D?line=10'>11</a>\u001b[0m querystring \u001b[39m=\u001b[39m {\n\u001b[0;32m     <a href='vscode-notebook-cell:/d%3A/Git/Python/Performance%20improvment/PythonAddIndustry.ipynb#W5sZmlsZQ%3D%3D?line=11'>12</a>\u001b[0m     \u001b[39m\"\u001b[39m\u001b[39mapi_key\u001b[39m\u001b[39m\"\u001b[39m: \u001b[39m\"\u001b[39m\u001b[39mehMfh3qDOoYl174_gXvXeg\u001b[39m\u001b[39m\"\u001b[39m,\n\u001b[0;32m     <a href='vscode-notebook-cell:/d%3A/Git/Python/Performance%20improvment/PythonAddIndustry.ipynb#W5sZmlsZQ%3D%3D?line=12'>13</a>\u001b[0m     \u001b[39m\"\u001b[39m\u001b[39mdomain\u001b[39m\u001b[39m\"\u001b[39m: domain\n\u001b[0;32m     <a href='vscode-notebook-cell:/d%3A/Git/Python/Performance%20improvment/PythonAddIndustry.ipynb#W5sZmlsZQ%3D%3D?line=13'>14</a>\u001b[0m }\n\u001b[0;32m     <a href='vscode-notebook-cell:/d%3A/Git/Python/Performance%20improvment/PythonAddIndustry.ipynb#W5sZmlsZQ%3D%3D?line=14'>15</a>\u001b[0m \u001b[39mtry\u001b[39;00m:\n\u001b[1;32m---> <a href='vscode-notebook-cell:/d%3A/Git/Python/Performance%20improvment/PythonAddIndustry.ipynb#W5sZmlsZQ%3D%3D?line=15'>16</a>\u001b[0m     response \u001b[39m=\u001b[39m requests\u001b[39m.\u001b[39;49mrequest(\u001b[39m\"\u001b[39;49m\u001b[39mGET\u001b[39;49m\u001b[39m\"\u001b[39;49m, url, headers\u001b[39m=\u001b[39;49mheaders, params\u001b[39m=\u001b[39;49mquerystring)\n\u001b[0;32m     <a href='vscode-notebook-cell:/d%3A/Git/Python/Performance%20improvment/PythonAddIndustry.ipynb#W5sZmlsZQ%3D%3D?line=16'>17</a>\u001b[0m     \u001b[39mprint\u001b[39m(i)\n\u001b[0;32m     <a href='vscode-notebook-cell:/d%3A/Git/Python/Performance%20improvment/PythonAddIndustry.ipynb#W5sZmlsZQ%3D%3D?line=17'>18</a>\u001b[0m     \u001b[39mif\u001b[39;00m \u001b[39mbool\u001b[39m(response\u001b[39m.\u001b[39mjson()):\n",
      "File \u001b[1;32mc:\\Users\\abhij\\anaconda3\\lib\\site-packages\\requests\\api.py:61\u001b[0m, in \u001b[0;36mrequest\u001b[1;34m(method, url, **kwargs)\u001b[0m\n\u001b[0;32m     57\u001b[0m \u001b[39m# By using the 'with' statement we are sure the session is closed, thus we\u001b[39;00m\n\u001b[0;32m     58\u001b[0m \u001b[39m# avoid leaving sockets open which can trigger a ResourceWarning in some\u001b[39;00m\n\u001b[0;32m     59\u001b[0m \u001b[39m# cases, and look like a memory leak in others.\u001b[39;00m\n\u001b[0;32m     60\u001b[0m \u001b[39mwith\u001b[39;00m sessions\u001b[39m.\u001b[39mSession() \u001b[39mas\u001b[39;00m session:\n\u001b[1;32m---> 61\u001b[0m     \u001b[39mreturn\u001b[39;00m session\u001b[39m.\u001b[39;49mrequest(method\u001b[39m=\u001b[39;49mmethod, url\u001b[39m=\u001b[39;49murl, \u001b[39m*\u001b[39;49m\u001b[39m*\u001b[39;49mkwargs)\n",
      "File \u001b[1;32mc:\\Users\\abhij\\anaconda3\\lib\\site-packages\\requests\\sessions.py:542\u001b[0m, in \u001b[0;36mSession.request\u001b[1;34m(self, method, url, params, data, headers, cookies, files, auth, timeout, allow_redirects, proxies, hooks, stream, verify, cert, json)\u001b[0m\n\u001b[0;32m    537\u001b[0m send_kwargs \u001b[39m=\u001b[39m {\n\u001b[0;32m    538\u001b[0m     \u001b[39m'\u001b[39m\u001b[39mtimeout\u001b[39m\u001b[39m'\u001b[39m: timeout,\n\u001b[0;32m    539\u001b[0m     \u001b[39m'\u001b[39m\u001b[39mallow_redirects\u001b[39m\u001b[39m'\u001b[39m: allow_redirects,\n\u001b[0;32m    540\u001b[0m }\n\u001b[0;32m    541\u001b[0m send_kwargs\u001b[39m.\u001b[39mupdate(settings)\n\u001b[1;32m--> 542\u001b[0m resp \u001b[39m=\u001b[39m \u001b[39mself\u001b[39;49m\u001b[39m.\u001b[39;49msend(prep, \u001b[39m*\u001b[39;49m\u001b[39m*\u001b[39;49msend_kwargs)\n\u001b[0;32m    544\u001b[0m \u001b[39mreturn\u001b[39;00m resp\n",
      "File \u001b[1;32mc:\\Users\\abhij\\anaconda3\\lib\\site-packages\\requests\\sessions.py:655\u001b[0m, in \u001b[0;36mSession.send\u001b[1;34m(self, request, **kwargs)\u001b[0m\n\u001b[0;32m    652\u001b[0m start \u001b[39m=\u001b[39m preferred_clock()\n\u001b[0;32m    654\u001b[0m \u001b[39m# Send the request\u001b[39;00m\n\u001b[1;32m--> 655\u001b[0m r \u001b[39m=\u001b[39m adapter\u001b[39m.\u001b[39;49msend(request, \u001b[39m*\u001b[39;49m\u001b[39m*\u001b[39;49mkwargs)\n\u001b[0;32m    657\u001b[0m \u001b[39m# Total elapsed time of the request (approximately)\u001b[39;00m\n\u001b[0;32m    658\u001b[0m elapsed \u001b[39m=\u001b[39m preferred_clock() \u001b[39m-\u001b[39m start\n",
      "File \u001b[1;32mc:\\Users\\abhij\\anaconda3\\lib\\site-packages\\requests\\adapters.py:439\u001b[0m, in \u001b[0;36mHTTPAdapter.send\u001b[1;34m(self, request, stream, timeout, verify, cert, proxies)\u001b[0m\n\u001b[0;32m    437\u001b[0m \u001b[39mtry\u001b[39;00m:\n\u001b[0;32m    438\u001b[0m     \u001b[39mif\u001b[39;00m \u001b[39mnot\u001b[39;00m chunked:\n\u001b[1;32m--> 439\u001b[0m         resp \u001b[39m=\u001b[39m conn\u001b[39m.\u001b[39;49murlopen(\n\u001b[0;32m    440\u001b[0m             method\u001b[39m=\u001b[39;49mrequest\u001b[39m.\u001b[39;49mmethod,\n\u001b[0;32m    441\u001b[0m             url\u001b[39m=\u001b[39;49murl,\n\u001b[0;32m    442\u001b[0m             body\u001b[39m=\u001b[39;49mrequest\u001b[39m.\u001b[39;49mbody,\n\u001b[0;32m    443\u001b[0m             headers\u001b[39m=\u001b[39;49mrequest\u001b[39m.\u001b[39;49mheaders,\n\u001b[0;32m    444\u001b[0m             redirect\u001b[39m=\u001b[39;49m\u001b[39mFalse\u001b[39;49;00m,\n\u001b[0;32m    445\u001b[0m             assert_same_host\u001b[39m=\u001b[39;49m\u001b[39mFalse\u001b[39;49;00m,\n\u001b[0;32m    446\u001b[0m             preload_content\u001b[39m=\u001b[39;49m\u001b[39mFalse\u001b[39;49;00m,\n\u001b[0;32m    447\u001b[0m             decode_content\u001b[39m=\u001b[39;49m\u001b[39mFalse\u001b[39;49;00m,\n\u001b[0;32m    448\u001b[0m             retries\u001b[39m=\u001b[39;49m\u001b[39mself\u001b[39;49m\u001b[39m.\u001b[39;49mmax_retries,\n\u001b[0;32m    449\u001b[0m             timeout\u001b[39m=\u001b[39;49mtimeout\n\u001b[0;32m    450\u001b[0m         )\n\u001b[0;32m    452\u001b[0m     \u001b[39m# Send the request.\u001b[39;00m\n\u001b[0;32m    453\u001b[0m     \u001b[39melse\u001b[39;00m:\n\u001b[0;32m    454\u001b[0m         \u001b[39mif\u001b[39;00m \u001b[39mhasattr\u001b[39m(conn, \u001b[39m'\u001b[39m\u001b[39mproxy_pool\u001b[39m\u001b[39m'\u001b[39m):\n",
      "File \u001b[1;32mc:\\Users\\abhij\\anaconda3\\lib\\site-packages\\urllib3\\connectionpool.py:699\u001b[0m, in \u001b[0;36mHTTPConnectionPool.urlopen\u001b[1;34m(self, method, url, body, headers, retries, redirect, assert_same_host, timeout, pool_timeout, release_conn, chunked, body_pos, **response_kw)\u001b[0m\n\u001b[0;32m    696\u001b[0m     \u001b[39mself\u001b[39m\u001b[39m.\u001b[39m_prepare_proxy(conn)\n\u001b[0;32m    698\u001b[0m \u001b[39m# Make the request on the httplib connection object.\u001b[39;00m\n\u001b[1;32m--> 699\u001b[0m httplib_response \u001b[39m=\u001b[39m \u001b[39mself\u001b[39;49m\u001b[39m.\u001b[39;49m_make_request(\n\u001b[0;32m    700\u001b[0m     conn,\n\u001b[0;32m    701\u001b[0m     method,\n\u001b[0;32m    702\u001b[0m     url,\n\u001b[0;32m    703\u001b[0m     timeout\u001b[39m=\u001b[39;49mtimeout_obj,\n\u001b[0;32m    704\u001b[0m     body\u001b[39m=\u001b[39;49mbody,\n\u001b[0;32m    705\u001b[0m     headers\u001b[39m=\u001b[39;49mheaders,\n\u001b[0;32m    706\u001b[0m     chunked\u001b[39m=\u001b[39;49mchunked,\n\u001b[0;32m    707\u001b[0m )\n\u001b[0;32m    709\u001b[0m \u001b[39m# If we're going to release the connection in ``finally:``, then\u001b[39;00m\n\u001b[0;32m    710\u001b[0m \u001b[39m# the response doesn't need to know about the connection. Otherwise\u001b[39;00m\n\u001b[0;32m    711\u001b[0m \u001b[39m# it will also try to release it and we'll have a double-release\u001b[39;00m\n\u001b[0;32m    712\u001b[0m \u001b[39m# mess.\u001b[39;00m\n\u001b[0;32m    713\u001b[0m response_conn \u001b[39m=\u001b[39m conn \u001b[39mif\u001b[39;00m \u001b[39mnot\u001b[39;00m release_conn \u001b[39melse\u001b[39;00m \u001b[39mNone\u001b[39;00m\n",
      "File \u001b[1;32mc:\\Users\\abhij\\anaconda3\\lib\\site-packages\\urllib3\\connectionpool.py:382\u001b[0m, in \u001b[0;36mHTTPConnectionPool._make_request\u001b[1;34m(self, conn, method, url, timeout, chunked, **httplib_request_kw)\u001b[0m\n\u001b[0;32m    380\u001b[0m \u001b[39m# Trigger any extra validation we need to do.\u001b[39;00m\n\u001b[0;32m    381\u001b[0m \u001b[39mtry\u001b[39;00m:\n\u001b[1;32m--> 382\u001b[0m     \u001b[39mself\u001b[39;49m\u001b[39m.\u001b[39;49m_validate_conn(conn)\n\u001b[0;32m    383\u001b[0m \u001b[39mexcept\u001b[39;00m (SocketTimeout, BaseSSLError) \u001b[39mas\u001b[39;00m e:\n\u001b[0;32m    384\u001b[0m     \u001b[39m# Py2 raises this as a BaseSSLError, Py3 raises it as socket timeout.\u001b[39;00m\n\u001b[0;32m    385\u001b[0m     \u001b[39mself\u001b[39m\u001b[39m.\u001b[39m_raise_timeout(err\u001b[39m=\u001b[39me, url\u001b[39m=\u001b[39murl, timeout_value\u001b[39m=\u001b[39mconn\u001b[39m.\u001b[39mtimeout)\n",
      "File \u001b[1;32mc:\\Users\\abhij\\anaconda3\\lib\\site-packages\\urllib3\\connectionpool.py:1010\u001b[0m, in \u001b[0;36mHTTPSConnectionPool._validate_conn\u001b[1;34m(self, conn)\u001b[0m\n\u001b[0;32m   1008\u001b[0m \u001b[39m# Force connect early to allow us to validate the connection.\u001b[39;00m\n\u001b[0;32m   1009\u001b[0m \u001b[39mif\u001b[39;00m \u001b[39mnot\u001b[39;00m \u001b[39mgetattr\u001b[39m(conn, \u001b[39m\"\u001b[39m\u001b[39msock\u001b[39m\u001b[39m\"\u001b[39m, \u001b[39mNone\u001b[39;00m):  \u001b[39m# AppEngine might not have  `.sock`\u001b[39;00m\n\u001b[1;32m-> 1010\u001b[0m     conn\u001b[39m.\u001b[39;49mconnect()\n\u001b[0;32m   1012\u001b[0m \u001b[39mif\u001b[39;00m \u001b[39mnot\u001b[39;00m conn\u001b[39m.\u001b[39mis_verified:\n\u001b[0;32m   1013\u001b[0m     warnings\u001b[39m.\u001b[39mwarn(\n\u001b[0;32m   1014\u001b[0m         (\n\u001b[0;32m   1015\u001b[0m             \u001b[39m\"\u001b[39m\u001b[39mUnverified HTTPS request is being made to host \u001b[39m\u001b[39m'\u001b[39m\u001b[39m%s\u001b[39;00m\u001b[39m'\u001b[39m\u001b[39m. \u001b[39m\u001b[39m\"\u001b[39m\n\u001b[1;32m   (...)\u001b[0m\n\u001b[0;32m   1020\u001b[0m         InsecureRequestWarning,\n\u001b[0;32m   1021\u001b[0m     )\n",
      "File \u001b[1;32mc:\\Users\\abhij\\anaconda3\\lib\\site-packages\\urllib3\\connection.py:411\u001b[0m, in \u001b[0;36mHTTPSConnection.connect\u001b[1;34m(self)\u001b[0m\n\u001b[0;32m    402\u001b[0m \u001b[39mif\u001b[39;00m (\n\u001b[0;32m    403\u001b[0m     \u001b[39mnot\u001b[39;00m \u001b[39mself\u001b[39m\u001b[39m.\u001b[39mca_certs\n\u001b[0;32m    404\u001b[0m     \u001b[39mand\u001b[39;00m \u001b[39mnot\u001b[39;00m \u001b[39mself\u001b[39m\u001b[39m.\u001b[39mca_cert_dir\n\u001b[1;32m   (...)\u001b[0m\n\u001b[0;32m    407\u001b[0m     \u001b[39mand\u001b[39;00m \u001b[39mhasattr\u001b[39m(context, \u001b[39m\"\u001b[39m\u001b[39mload_default_certs\u001b[39m\u001b[39m\"\u001b[39m)\n\u001b[0;32m    408\u001b[0m ):\n\u001b[0;32m    409\u001b[0m     context\u001b[39m.\u001b[39mload_default_certs()\n\u001b[1;32m--> 411\u001b[0m \u001b[39mself\u001b[39m\u001b[39m.\u001b[39msock \u001b[39m=\u001b[39m ssl_wrap_socket(\n\u001b[0;32m    412\u001b[0m     sock\u001b[39m=\u001b[39;49mconn,\n\u001b[0;32m    413\u001b[0m     keyfile\u001b[39m=\u001b[39;49m\u001b[39mself\u001b[39;49m\u001b[39m.\u001b[39;49mkey_file,\n\u001b[0;32m    414\u001b[0m     certfile\u001b[39m=\u001b[39;49m\u001b[39mself\u001b[39;49m\u001b[39m.\u001b[39;49mcert_file,\n\u001b[0;32m    415\u001b[0m     key_password\u001b[39m=\u001b[39;49m\u001b[39mself\u001b[39;49m\u001b[39m.\u001b[39;49mkey_password,\n\u001b[0;32m    416\u001b[0m     ca_certs\u001b[39m=\u001b[39;49m\u001b[39mself\u001b[39;49m\u001b[39m.\u001b[39;49mca_certs,\n\u001b[0;32m    417\u001b[0m     ca_cert_dir\u001b[39m=\u001b[39;49m\u001b[39mself\u001b[39;49m\u001b[39m.\u001b[39;49mca_cert_dir,\n\u001b[0;32m    418\u001b[0m     ca_cert_data\u001b[39m=\u001b[39;49m\u001b[39mself\u001b[39;49m\u001b[39m.\u001b[39;49mca_cert_data,\n\u001b[0;32m    419\u001b[0m     server_hostname\u001b[39m=\u001b[39;49mserver_hostname,\n\u001b[0;32m    420\u001b[0m     ssl_context\u001b[39m=\u001b[39;49mcontext,\n\u001b[0;32m    421\u001b[0m     tls_in_tls\u001b[39m=\u001b[39;49mtls_in_tls,\n\u001b[0;32m    422\u001b[0m )\n\u001b[0;32m    424\u001b[0m \u001b[39m# If we're using all defaults and the connection\u001b[39;00m\n\u001b[0;32m    425\u001b[0m \u001b[39m# is TLSv1 or TLSv1.1 we throw a DeprecationWarning\u001b[39;00m\n\u001b[0;32m    426\u001b[0m \u001b[39m# for the host.\u001b[39;00m\n\u001b[0;32m    427\u001b[0m \u001b[39mif\u001b[39;00m (\n\u001b[0;32m    428\u001b[0m     default_ssl_context\n\u001b[0;32m    429\u001b[0m     \u001b[39mand\u001b[39;00m \u001b[39mself\u001b[39m\u001b[39m.\u001b[39mssl_version \u001b[39mis\u001b[39;00m \u001b[39mNone\u001b[39;00m\n\u001b[0;32m    430\u001b[0m     \u001b[39mand\u001b[39;00m \u001b[39mhasattr\u001b[39m(\u001b[39mself\u001b[39m\u001b[39m.\u001b[39msock, \u001b[39m\"\u001b[39m\u001b[39mversion\u001b[39m\u001b[39m\"\u001b[39m)\n\u001b[0;32m    431\u001b[0m     \u001b[39mand\u001b[39;00m \u001b[39mself\u001b[39m\u001b[39m.\u001b[39msock\u001b[39m.\u001b[39mversion() \u001b[39min\u001b[39;00m {\u001b[39m\"\u001b[39m\u001b[39mTLSv1\u001b[39m\u001b[39m\"\u001b[39m, \u001b[39m\"\u001b[39m\u001b[39mTLSv1.1\u001b[39m\u001b[39m\"\u001b[39m}\n\u001b[0;32m    432\u001b[0m ):\n",
      "File \u001b[1;32mc:\\Users\\abhij\\anaconda3\\lib\\site-packages\\urllib3\\util\\ssl_.py:381\u001b[0m, in \u001b[0;36mssl_wrap_socket\u001b[1;34m(sock, keyfile, certfile, cert_reqs, ca_certs, server_hostname, ssl_version, ciphers, ssl_context, ca_cert_dir, key_password, ca_cert_data, tls_in_tls)\u001b[0m\n\u001b[0;32m    379\u001b[0m \u001b[39mif\u001b[39;00m ca_certs \u001b[39mor\u001b[39;00m ca_cert_dir \u001b[39mor\u001b[39;00m ca_cert_data:\n\u001b[0;32m    380\u001b[0m     \u001b[39mtry\u001b[39;00m:\n\u001b[1;32m--> 381\u001b[0m         context\u001b[39m.\u001b[39;49mload_verify_locations(ca_certs, ca_cert_dir, ca_cert_data)\n\u001b[0;32m    382\u001b[0m     \u001b[39mexcept\u001b[39;00m (\u001b[39mIOError\u001b[39;00m, \u001b[39mOSError\u001b[39;00m) \u001b[39mas\u001b[39;00m e:\n\u001b[0;32m    383\u001b[0m         \u001b[39mraise\u001b[39;00m SSLError(e)\n",
      "\u001b[1;31mKeyboardInterrupt\u001b[0m: "
     ]
    }
   ],
   "source": [
    "url = \"https://api.apollo.io/v1/organizations/enrich\"\n",
    "\n",
    "headers = {\n",
    "    'Cache-Control': 'no-cache',\n",
    "    'Content-Type': 'application/json'\n",
    "}\n",
    "\n",
    "\n",
    "for i in range(0,len(df)):\n",
    "    domain = df.iloc[i,0] \n",
    "    querystring = {\n",
    "        \"api_key\": \"ehMfh3qDOoYl174_gXvXeg\",\n",
    "        \"domain\": domain\n",
    "    }\n",
    "    try:\n",
    "        response = requests.request(\"GET\", url, headers=headers, params=querystring)\n",
    "        print(i)\n",
    "        if bool(response.json()):\n",
    "            industry = response.json()\n",
    "            df.iloc[i,1] = industry[\"organization\"][\"industry\"]\n",
    "    except IOError as e:\n",
    "    # Handle a more general exception (if any other unexpected exception occurs)\n",
    "        print(f\"Unexpected error: {e}\")\n",
    "    except Exception as e:\n",
    "    # Print the exact error message\n",
    "        print(f\"An error occurred: {e}\")\n",
    "\n",
    "\n",
    "print(df)"
   ]
  },
  {
   "cell_type": "code",
   "execution_count": 78,
   "metadata": {},
   "outputs": [
    {
     "name": "stdout",
     "output_type": "stream",
     "text": [
      "0\n",
      "2816\n"
     ]
    }
   ],
   "source": [
    "##################################################\n",
    "extra work\n",
    "def extractDomain(x):\n",
    "    return x.strip().split('@')[1]\n",
    "\n",
    "email = df['contact_email'].apply(extractDomain)\n",
    "email.drop_duplicates(inplace=True)\n",
    "email = email.reset_index(drop=True)\n",
    "print(email.isnull().sum())\n",
    "print(len(email))"
   ]
  },
  {
   "cell_type": "code",
   "execution_count": 79,
   "metadata": {},
   "outputs": [],
   "source": [
    "df_backup = df"
   ]
  },
  {
   "cell_type": "code",
   "execution_count": null,
   "metadata": {},
   "outputs": [],
   "source": [
    "import requests\n",
    "\n",
    "url = \"https://api.apollo.io/api/v1/organizations/bulk_enrich\"\n",
    "\n",
    "headers = {\n",
    "    'Cache-Control': 'no-cache',\n",
    "    'Content-Type': 'application/json'\n",
    "}\n",
    "df_domain = pd.read_csv('industry.csv',header=0)\n",
    "df_backup = df_domain.copy()\n",
    "df_domain = df_domain[df_domain['industry'].isnull()]\n",
    "df_domain = df_domain.reset_index(drop=True)\n",
    "\n",
    "for i in range(0,len(df_domain),10):\n",
    "        domain = df_domain[\"contact_email\"][i:i+10].tolist()\n",
    "        data = {\n",
    "            \"api_key\": \"ehMfh3qDOoYl174_gXvXeg\",\n",
    "            \"domains\": domain\n",
    "        }\n",
    "        try:\n",
    "            response = requests.request(\"POST\", url, headers=headers, json=data)\n",
    "            if bool(response.json()):\n",
    "                if bool(response.json()['organizations']):\n",
    "                    org_response = response.json()['organizations']\n",
    "                    for j in range(0,10):\n",
    "                        if bool(org_response[j]):\n",
    "                            industry = org_response[j][\"industry\"]\n",
    "                            domain_name = org_response[j][\"primary_domain\"]\n",
    "                            if bool(industry):\n",
    "                                idx_df = df_backup[df_backup['contact_email']== domain_name].index\n",
    "                                df_backup.iloc[idx_df,1] = industry\n",
    "                            else:\n",
    "                                idx_df = df_backup[df_backup['contact_email']== domain_name].index\n",
    "                                df_backup.iloc[idx_df,1] = \"No Industry Information\"\n",
    "        except IOError as e:\n",
    "        # Handle a more general exception (if any other unexpected exception occurs)\n",
    "            errormsg = str(e)\n",
    "            print(f\"Unexpected error: {errormsg}\")\n",
    "\n",
    "\n",
    "\n"
   ]
  },
  {
   "cell_type": "code",
   "execution_count": null,
   "metadata": {},
   "outputs": [],
   "source": [
    "\n",
    "\n",
    "df_backup[df_backup['contact_email']=='steckel.com'].index\n",
    "\n",
    "df_domain\n",
    "\n"
   ]
  },
  {
   "cell_type": "code",
   "execution_count": null,
   "metadata": {},
   "outputs": [],
   "source": [
    "df_backup[df_backup[\"industry\"].notnull()]"
   ]
  },
  {
   "cell_type": "code",
   "execution_count": null,
   "metadata": {},
   "outputs": [],
   "source": [
    "df_domain = pd.read_csv('industry.csv',header=0)\n",
    "df_backup = df_domain.copy()\n",
    "\n",
    "df_backup[df_backup[\"industry\"].notnull()]"
   ]
  }
 ],
 "metadata": {
  "kernelspec": {
   "display_name": "base",
   "language": "python",
   "name": "python3"
  },
  "language_info": {
   "codemirror_mode": {
    "name": "ipython",
    "version": 3
   },
   "file_extension": ".py",
   "mimetype": "text/x-python",
   "name": "python",
   "nbconvert_exporter": "python",
   "pygments_lexer": "ipython3",
   "version": "3.8.8"
  }
 },
 "nbformat": 4,
 "nbformat_minor": 2
}
