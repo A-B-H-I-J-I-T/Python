{
 "cells": [
  {
   "cell_type": "markdown",
   "metadata": {},
   "source": [
    "# Python basics"
   ]
  },
  {
   "cell_type": "code",
   "execution_count": 44,
   "metadata": {},
   "outputs": [
    {
     "name": "stdout",
     "output_type": "stream",
     "text": [
      "Hello World\n",
      "1.2\n",
      "[1, 'Hello', 3.4]\n",
      "[[11, 12, 5, 2], [15, 6, 10], [10, 8, 12, 5], [12, 15, 8, 6]]\n",
      "foo 2\n"
     ]
    }
   ],
   "source": [
    "#print\n",
    "print(\"Hello World\")\n",
    "print(1.2)\n",
    "#Python directly prints list without a for loop\n",
    "my_list = [1, \"Hello\", 3.4]\n",
    "print(my_list)\n",
    "#let us check on the 2d array\n",
    "arr = [[11, 12, 5, 2], [15, 6,10], [10, 8, 12, 5], [12,15,8,6]]\n",
    "print(arr)\n",
    "\"hello\"#Need to figur this out \n",
    "arr #Need to figur this out \n",
    "#Multiple argument\n",
    "y=2\n",
    "x = 'foo'\n",
    "print(x,y)"
   ]
  },
  {
   "cell_type": "markdown",
   "metadata": {},
   "source": [
    "## Lines and Identation\n",
    "#### Python does not use braces({}) to indicate blocks of code for class and function definitions or flow control. Blocks of code are denoted by line indentation, which is rigidly enforced."
   ]
  },
  {
   "cell_type": "code",
   "execution_count": 45,
   "metadata": {},
   "outputs": [
    {
     "name": "stdout",
     "output_type": "stream",
     "text": [
      "True\n"
     ]
    }
   ],
   "source": [
    "indentatn = True\n",
    "if indentatn:\n",
    "   print (\"True\")\n",
    "\n",
    "else:\n",
    "   print (\"False\")\n"
   ]
  },
  {
   "cell_type": "markdown",
   "metadata": {},
   "source": [
    "## Multi Line Statements"
   ]
  },
  {
   "cell_type": "code",
   "execution_count": 46,
   "metadata": {},
   "outputs": [
    {
     "name": "stdout",
     "output_type": "stream",
     "text": [
      "Ask?\n",
      "Python Programming\n",
      "\"Hi\" ABC\n",
      "Hello World!\n",
      "'Taj Mahal' is in Agra.\n",
      "He 'asked', \"did you \n",
      "speak with him?\"\n",
      "'''He 'asked', \"did you \n",
      "speak with him?\"'''\n",
      "foo 2\n"
     ]
    }
   ],
   "source": [
    "#Statements in Python typically end with a new line. Python, however, allows the use of the line continuation character (\\) to denote that the line should continue\n",
    "total = 1 \\\n",
    "    +2+ \\\n",
    "        4\n",
    "\n",
    "#Quotation in Python\n",
    "#Python accepts single ('), double (\") and triple (''' or \"\"\") quotes to denote string literals, as long as the same type of quote starts and ends the string.\n",
    "\n",
    "#Single quote\n",
    "#Double Quote can be contained in the single\n",
    "word = 'Ask?'\n",
    "print(word)\n",
    "sentence = 'Python Programming'\n",
    "print(sentence)\n",
    "name = '\"Hi\" ABC'\n",
    "print(name)\n",
    "#error because only 3 quotes\n",
    "# congrat = 'We congrat's you.'               \n",
    "# print(congrat)\n",
    "\n",
    "#Double Quote\n",
    "#Single quote can be contained in Double\n",
    "wish = \"Hello World!\"\n",
    "print(wish)\n",
    "#error\n",
    "# hey = \"AskPython says \"Hi\"\"\n",
    "# print(hey)\n",
    "famous =\"'Taj Mahal' is in Agra.\"\n",
    "print(famous)\n",
    "\n",
    "# Triple Quote\n",
    "#both single and double quote can be contained in triple\n",
    "sentence1 = '''He 'asked', \"did you \n",
    "speak with him?\"'''\n",
    "print(sentence1)\n",
    "sentence1 = \"\"\"'''He 'asked', \"did you \n",
    "speak with him?\"'''\"\"\"\n",
    "print(sentence1)\n",
    "\n",
    "#Multiple statement in single line \n",
    "#use a semicolon ;\n",
    "y=2; x = \"foo\"; print(x,y)\n"
   ]
  },
  {
   "cell_type": "markdown",
   "metadata": {},
   "source": [
    "### Standard Datatype and Variables"
   ]
  },
  {
   "cell_type": "code",
   "execution_count": 47,
   "metadata": {},
   "outputs": [
    {
     "name": "stdout",
     "output_type": "stream",
     "text": [
      "before change Print a bc ... (1.333+1j) 2 whatup 2 whatup\n",
      "After change d&e Print a bc ... (1.333+1j) 2 whatup 3 whatsup\n",
      "-34 -3.22 3e+26j\n",
      "Hello frendz chai pilo\n",
      "l\n",
      "o\n",
      "lpih defolH\n",
      "Hello frendz chai piloHello frendz chai piloHello frendz chai pilo\n",
      "Hello frendz chai pilo12334e\n",
      "['sdkh', 345, 212.33, (2+3j)]\n",
      "['sdkh', 345, 212.33, (2+3j), 'sdkh', 345, 212.33, (2+3j)]\n",
      "[(2+3j), 212.33, 345, 'sdkh']\n",
      "[345, 'sdkh', 345, 212.33, (2+3j)]\n",
      "(12, 432.4234, 'adsfghsdkjh', [12123, 234234, 2342134])\n",
      "(12, 432.4234, 'adsfghsdkjh', [12123, 234234, 2342134], 12, 432.4234, 'adsfghsdkjh', [12123, 234234, 2342134])\n",
      "([12123, 234234, 2342134], 'adsfghsdkjh', 432.4234, 12)\n",
      "(432.4234, 12, 432.4234, 'adsfghsdkjh', [12123, 234234, 2342134])\n",
      "{1: 'Abhi', 2: 'Yadav', 3: [1, 2, 3], (1+8j): (1, 2, 3), (4, 5): 34.5}\n",
      "Abhi\n",
      "34.5\n",
      "{1: 'Abhi', 2: 'Ramsajivan Yadav', 3: [1, 2, 3], (1+8j): (1, 2, 3), (4, 5): 34.5}\n"
     ]
    }
   ],
   "source": [
    "# variable assigment, it is dynamic, no need of explicit assigment\n",
    "var1 = 1\n",
    "#multiple assigment\n",
    "a, b, c = 1.333+1j, 2,\"whatup\"\n",
    "d = b;e=c\n",
    "print(\"before change Print a bc ...\",a,b,c,d,e)\n",
    "d=3;e=\"whatsup\"\n",
    "print(\"After change d&e Print a bc ...\",a,b,c,d,e)\n",
    "# find the type of the variable\n",
    "type(a)\n",
    "\n",
    "#Data type numbers\n",
    "var1, var2, var3 = -34,-32.2E-1,3e+26J\n",
    "print(var1, var2, var3)\n",
    "# delete a ref from variables\n",
    "del var1,var2\n",
    "#print(var1, var2, var3) this will cause an error as var1 and var 2 ref was deleted\n",
    "\n",
    "#Strings \n",
    "# Strings in Python are identified as a contiguous set of characters represented in the quotation marks. \n",
    "# Python allows either pair of single or double quotes. Subsets of strings can be taken using the slice operator ([ ] and [:] )\n",
    "#  with indexes starting at 0 in the beginning of the string and working their way from -1 to the end.\n",
    "#The plus (+) sign is the string concatenation operator and the asterisk (*) is the repetition operator\n",
    "\n",
    "str = \"Hello frendz chai pilo\"\n",
    "print(str)\n",
    "print(str[3])\n",
    "print(str[-1])\n",
    "#indexing in strings string[Start:End:StepSize&Direction]\n",
    "#if the field is blank means till the end or step size default which is 1\n",
    "print(str[-2::-2]) \n",
    "print(str * 3) # print the string 3 times\n",
    "print(str +\"12334e\") # Concat\n",
    "\n",
    "# List\n",
    "# Lists are the most versatile of Python's compound data types. A list contains items separated by commas and enclosed within \n",
    "# square brackets ([]). To some extent, lists are similar to arrays in C. One of the differences between them is that all the items \n",
    "# belonging to a list can be of different data type.\n",
    "# all the indexing same as String\n",
    "list = [\"sdkh\",123,212.33,2+3j]\n",
    "list[1] = 345\n",
    "print(list)\n",
    "print(list*2) # the conteny are printed twice\n",
    "print(list[-1::-1])\n",
    "print(list[1:2]+list)\n",
    "\n",
    "# Tuple\n",
    "# The main difference between lists and tuples are − Lists are enclosed in brackets ( [ ] ) and their elements and size can be changed,\n",
    "#  while tuples are enclosed in parentheses ( ( ) ) and cannot be updated. Tuples can be thought of as read-only lists.\n",
    "tuple = (12,432.4234,\"adsfghsdkjh\",[12123,234234,2342134])\n",
    "# tuple[0] = 123 error as tuple are read only\n",
    "print(tuple)\n",
    "print(tuple*2) # the conteny are printed twice\n",
    "print(tuple[-1::-1])\n",
    "print(tuple[1:2]+tuple)\n",
    "\n",
    "\n",
    "#Dictionary\n",
    "# Python's dictionaries are kind of hash-table type. They work like associative arrays or hashes found in Perl and consist of key-value pairs.\n",
    "#  A dictionary key can be almost any Python type, but are usually numbers or strings. Values, on the other hand, can be any arbitrary Python object.\n",
    "# Dictionaries are enclosed by curly braces ({ }) and values can be assigned and accessed using square braces ([]).\n",
    "dict = {1:\"Abhi\",2:\"Yadav\",3:[1,2,3],1+8j:(1,2,3),(4,5):34.5}\n",
    "print(dict)\n",
    "print(dict[1])\n",
    "print(dict[(4,5)])\n",
    "dict[2]=\"Ramsajivan Yadav\"\n",
    "print(dict)"
   ]
  },
  {
   "cell_type": "markdown",
   "metadata": {},
   "source": [
    "### Operators"
   ]
  },
  {
   "cell_type": "code",
   "execution_count": 48,
   "metadata": {},
   "outputs": [
    {
     "name": "stdout",
     "output_type": "stream",
     "text": [
      "Arthmetic:\n",
      "Addition 5\n",
      "Subtraction -1\n",
      "Mul 6\n",
      "Division 0.6666666666666666\n",
      "Mod 2\n",
      "Exponent 8\n",
      "Floor Division (--> -infinity) 0 \n",
      "\n",
      "Comparision:\n",
      "equal (Can compare with int and string) False\n",
      "not equal (Can compare with int and string) True\n",
      "Greater (Does not support int string) True\n",
      "Lessthan (Does not support int string) True\n",
      "Greater or equal (Does not support int string) False\n",
      "Lessthan (Does not support int string) True\n",
      "BitAnd  12\n",
      "left Shift 52\n",
      "right shift 6\n",
      "Logical AND False\n",
      "in operator list:  True\n",
      "in operator string:  False\n",
      "2632502003392 2632501359936\n",
      "is operator: False\n"
     ]
    }
   ],
   "source": [
    "#Arithmetic \n",
    "a = 2; b=3;f=\"what\"\n",
    "print(\"Arthmetic:\\nAddition\",a+b)\n",
    "print(\"Subtraction\", a-b)\n",
    "print(\"Mul\",a*b)\n",
    "print(\"Division\",a/b)\n",
    "print(\"Mod\", a%b)\n",
    "print(\"Exponent\",a**b)\n",
    "print(\"Floor Division (--> -infinity)\",a//b,\"\\n\")\n",
    "\n",
    "#Comparision\n",
    "c = \"kallo2\";d=\"hallo845\";e=c\n",
    "print(\"Comparision:\\nequal (Can compare with int and string)\", a==c)\n",
    "print(\"not equal (Can compare with int and string)\",a != c)\n",
    "print(\"Greater (Does not support int string)\",c>d) #this will do char wise comparision for strings\n",
    "print(\"Lessthan (Does not support int string)\",a<b)\n",
    "print(\"Greater or equal (Does not support int string)\",a>=b)\n",
    "print(\"Lessthan (Does not support int string)\",a<b)\n",
    "\n",
    "#Assigment operator\n",
    "# = , +=, -=, *=, /=, %=, **=, //=\n",
    "\n",
    "#Bitwise: here the binary conversion happens then the bitwise AND is performed  \n",
    "a=60 ; b=13\n",
    "print(\"BitAnd \",a&b)\n",
    "#for Or: |  Xor: ^ Compliment: ~\n",
    "print(\"left Shift\",b<<2) #normal shift operation not round robin\n",
    "print(\"right shift\",b>>1)\n",
    "\n",
    "#Logical:\n",
    "print(\"Logical AND\", True and False )\n",
    "#print(\"Logical AND\", 2 and 3 ) need to check on this\n",
    "#others: or, not\n",
    "\n",
    "#membership:\n",
    "list = [1,2,42,\"hi\",[1,2]]\n",
    "str = \"Guess who's back\"\n",
    "print(\"in operator list: \",[1,2] in list )\n",
    "print(\"in operator string: \",\"Guess2\" in str )\n",
    "#similar for tuple and (not in) operator\n",
    "\n",
    "#identity operator\n",
    "#Identity operators compare the memory locations of two objects if id(a)==id(b) it returns True\n",
    "a = [1,2,3];b=a\n",
    "c=[1,2,3]\n",
    "print(id(a),id(c))\n",
    "print(\"is operator:\",a is c)# not working as expected with int and string\n",
    "#others: is not"
   ]
  },
  {
   "cell_type": "markdown",
   "metadata": {},
   "source": [
    "### Decision making"
   ]
  },
  {
   "cell_type": "code",
   "execution_count": 49,
   "metadata": {},
   "outputs": [
    {
     "name": "stdout",
     "output_type": "stream",
     "text": [
      "it is 20\n",
      "val is less than 30\n",
      "it is some number\n",
      "it is some number\n",
      "if reponds to 1 or 0\n"
     ]
    },
    {
     "ename": "TypeError",
     "evalue": "'str' object is not callable",
     "output_type": "error",
     "traceback": [
      "\u001b[1;31m---------------------------------------------------------------------------\u001b[0m",
      "\u001b[1;31mTypeError\u001b[0m                                 Traceback (most recent call last)",
      "\u001b[1;32md:\\Git\\Python\\Python Refresher.ipynb Cell 12\u001b[0m in \u001b[0;36m<cell line: 35>\u001b[1;34m()\u001b[0m\n\u001b[0;32m     <a href='vscode-notebook-cell:/d%3A/Git/Python/Python%20Refresher.ipynb#X14sZmlsZQ%3D%3D?line=31'>32</a>\u001b[0m List \u001b[39m=\u001b[39m [\u001b[39m367\u001b[39m, \u001b[39m111\u001b[39m, \u001b[39m562\u001b[39m, \u001b[39m945\u001b[39m, \u001b[39m6726\u001b[39m, \u001b[39m873\u001b[39m]\n\u001b[0;32m     <a href='vscode-notebook-cell:/d%3A/Git/Python/Python%20Refresher.ipynb#X14sZmlsZQ%3D%3D?line=33'>34</a>\u001b[0m \u001b[39m# Using the function on odd elements of the list\u001b[39;00m\n\u001b[1;32m---> <a href='vscode-notebook-cell:/d%3A/Git/Python/Python%20Refresher.ipynb#X14sZmlsZQ%3D%3D?line=34'>35</a>\u001b[0m newList \u001b[39m=\u001b[39m [digitSum(i) \u001b[39mfor\u001b[39;00m i \u001b[39min\u001b[39;00m List \u001b[39mif\u001b[39;00m i \u001b[39m&\u001b[39m \u001b[39m1\u001b[39m]\n\u001b[0;32m     <a href='vscode-notebook-cell:/d%3A/Git/Python/Python%20Refresher.ipynb#X14sZmlsZQ%3D%3D?line=36'>37</a>\u001b[0m \u001b[39m# Displaying new list\u001b[39;00m\n\u001b[0;32m     <a href='vscode-notebook-cell:/d%3A/Git/Python/Python%20Refresher.ipynb#X14sZmlsZQ%3D%3D?line=37'>38</a>\u001b[0m \u001b[39mprint\u001b[39m(newList)\n",
      "\u001b[1;32md:\\Git\\Python\\Python Refresher.ipynb Cell 12\u001b[0m in \u001b[0;36m<listcomp>\u001b[1;34m(.0)\u001b[0m\n\u001b[0;32m     <a href='vscode-notebook-cell:/d%3A/Git/Python/Python%20Refresher.ipynb#X14sZmlsZQ%3D%3D?line=31'>32</a>\u001b[0m List \u001b[39m=\u001b[39m [\u001b[39m367\u001b[39m, \u001b[39m111\u001b[39m, \u001b[39m562\u001b[39m, \u001b[39m945\u001b[39m, \u001b[39m6726\u001b[39m, \u001b[39m873\u001b[39m]\n\u001b[0;32m     <a href='vscode-notebook-cell:/d%3A/Git/Python/Python%20Refresher.ipynb#X14sZmlsZQ%3D%3D?line=33'>34</a>\u001b[0m \u001b[39m# Using the function on odd elements of the list\u001b[39;00m\n\u001b[1;32m---> <a href='vscode-notebook-cell:/d%3A/Git/Python/Python%20Refresher.ipynb#X14sZmlsZQ%3D%3D?line=34'>35</a>\u001b[0m newList \u001b[39m=\u001b[39m [digitSum(i) \u001b[39mfor\u001b[39;00m i \u001b[39min\u001b[39;00m List \u001b[39mif\u001b[39;00m i \u001b[39m&\u001b[39m \u001b[39m1\u001b[39m]\n\u001b[0;32m     <a href='vscode-notebook-cell:/d%3A/Git/Python/Python%20Refresher.ipynb#X14sZmlsZQ%3D%3D?line=36'>37</a>\u001b[0m \u001b[39m# Displaying new list\u001b[39;00m\n\u001b[0;32m     <a href='vscode-notebook-cell:/d%3A/Git/Python/Python%20Refresher.ipynb#X14sZmlsZQ%3D%3D?line=37'>38</a>\u001b[0m \u001b[39mprint\u001b[39m(newList)\n",
      "\u001b[1;32md:\\Git\\Python\\Python Refresher.ipynb Cell 12\u001b[0m in \u001b[0;36mdigitSum\u001b[1;34m(n)\u001b[0m\n\u001b[0;32m     <a href='vscode-notebook-cell:/d%3A/Git/Python/Python%20Refresher.ipynb#X14sZmlsZQ%3D%3D?line=23'>24</a>\u001b[0m \u001b[39mdef\u001b[39;00m \u001b[39mdigitSum\u001b[39m(n):\n\u001b[0;32m     <a href='vscode-notebook-cell:/d%3A/Git/Python/Python%20Refresher.ipynb#X14sZmlsZQ%3D%3D?line=24'>25</a>\u001b[0m     dsum \u001b[39m=\u001b[39m \u001b[39m0\u001b[39m\n\u001b[1;32m---> <a href='vscode-notebook-cell:/d%3A/Git/Python/Python%20Refresher.ipynb#X14sZmlsZQ%3D%3D?line=25'>26</a>\u001b[0m     \u001b[39mfor\u001b[39;00m ele \u001b[39min\u001b[39;00m \u001b[39mstr\u001b[39;49m(n):\n\u001b[0;32m     <a href='vscode-notebook-cell:/d%3A/Git/Python/Python%20Refresher.ipynb#X14sZmlsZQ%3D%3D?line=26'>27</a>\u001b[0m         dsum \u001b[39m+\u001b[39m\u001b[39m=\u001b[39m \u001b[39mint\u001b[39m(ele)\n\u001b[0;32m     <a href='vscode-notebook-cell:/d%3A/Git/Python/Python%20Refresher.ipynb#X14sZmlsZQ%3D%3D?line=27'>28</a>\u001b[0m     \u001b[39mreturn\u001b[39;00m dsum\n",
      "\u001b[1;31mTypeError\u001b[0m: 'str' object is not callable"
     ]
    }
   ],
   "source": [
    "#short hand if\n",
    "val = 20\n",
    "if(val == 20): print(\"it is 20\")\n",
    "#short hand if else (Kind of a ternary operator)\n",
    "print(\"val is greater than 30\") if val>30 else print(\"val is less than 30\")\n",
    "#if else\n",
    "if(val == 19):\n",
    "    print(\"It is 19\")\n",
    "else:\n",
    "    print(\"it is some number\")\n",
    "#elif stat\n",
    "if(val == 19):\n",
    "    print(\"it is 19\")\n",
    "elif(val == 18):\n",
    "    print(\"it is 18\")\n",
    "else:\n",
    "    print(\"it is some number\")\n",
    "#if reponds to 1 or 0 similar to True and false\n",
    "if 1 : print(\"if reponds to 1 or 0\")\n",
    "\n",
    "#list comprehension\n",
    "\n",
    "# Explicit function\n",
    "def digitSum(n):\n",
    "    dsum = 0\n",
    "    for ele in str(n):\n",
    "        dsum += int(ele)\n",
    "    return dsum\n",
    "  \n",
    "  \n",
    "# Initializing list\n",
    "List = [367, 111, 562, 945, 6726, 873]\n",
    "  \n",
    "# Using the function on odd elements of the list\n",
    "newList = [digitSum(i) for i in List if i & 1]\n",
    "  \n",
    "# Displaying new list\n",
    "print(newList)\n"
   ]
  },
  {
   "cell_type": "markdown",
   "metadata": {},
   "source": [
    "### Loop\n"
   ]
  },
  {
   "cell_type": "markdown",
   "metadata": {},
   "source": [
    "#### While loop"
   ]
  },
  {
   "cell_type": "code",
   "execution_count": null,
   "metadata": {},
   "outputs": [
    {
     "name": "stdout",
     "output_type": "stream",
     "text": [
      "Abhi Rocks\n",
      "Abhi Rocks\n",
      "Abhi Rocks\n",
      "Abhi Rocks\n",
      "Abhi Rocks\n",
      "Abhi rocks again\n",
      "Abhi rocks again\n",
      "Abhi rocks again\n",
      "Letter except b and i: A\n",
      "Letter except b and i: h\n",
      "Letter except b and i: j\n",
      "Letter except b and i: t\n",
      "Current Letter : h\n",
      "Current Letter : a\n",
      "Current Letter : h\n",
      "Current Letter : a\n",
      "Current Letter : h\n",
      "Value of i : 11\n",
      "0\n",
      "1\n",
      "2\n",
      "no break\n",
      "0\n"
     ]
    }
   ],
   "source": [
    "# While loop\n",
    "repeat = 0\n",
    "while repeat < 5:\n",
    "    print(\"Abhi Rocks\")\n",
    "    repeat +=1\n",
    "\n",
    "#same in single stat\n",
    "while repeat < 8: print(\"Abhi rocks again\"); repeat +=1\n",
    "\n",
    "#continue statement: it brings back the control to the expression\n",
    "# print all the letter expect b and i\n",
    "name = \"Abhijit\"\n",
    "i = 0;\n",
    "while  i < len(name):\n",
    "    if name[i] == \"b\" or name[i] == \"i\":\n",
    "        i += 1\n",
    "        continue\n",
    "    print(\"Letter except b and i:\",name[i])\n",
    "    i +=1\n",
    "\n",
    "#break statement : brings the control out of the loop\n",
    "\n",
    "# break the loop as soon it sees 'e'\n",
    "# or 's'\n",
    "i = 0\n",
    "a = 'hahahehe'\n",
    "  \n",
    "while i < len(a):\n",
    "    if a[i] == 'e' or a[i] == 's':\n",
    "        i += 1\n",
    "        break\n",
    "          \n",
    "    print('Current Letter :', a[i])\n",
    "    i += 1\n",
    "\n",
    "#pass statement \n",
    "# An empty loop\n",
    "a = 'mockingbird'\n",
    "i = 0\n",
    "  \n",
    "while i < len(a):\n",
    "    i += 1\n",
    "    pass\n",
    "    \n",
    "print('Value of i :', i)\n",
    "\n",
    "#while else loop\n",
    "i =0\n",
    "while i <3:\n",
    "    print(i)\n",
    "    i+=1\n",
    "else:\n",
    "    print(\"no break\")\n",
    "# break stat use\n",
    "i =0\n",
    "while i <3:\n",
    "    print(i)\n",
    "    i+=1\n",
    "    break\n",
    "else:\n",
    "    print(\"no break\")\n",
    "\n"
   ]
  },
  {
   "cell_type": "markdown",
   "metadata": {},
   "source": [
    "#### For Loop"
   ]
  },
  {
   "cell_type": "code",
   "execution_count": null,
   "metadata": {},
   "outputs": [
    {
     "name": "stdout",
     "output_type": "stream",
     "text": [
      "pw1  :  1234\n",
      "pw2  :  4321\n",
      "0\n",
      "1\n",
      "2\n",
      "3\n",
      "4\n"
     ]
    }
   ],
   "source": [
    "# as a dict iterator can be used in string list tuple \n",
    "mypass = dict()\n",
    "mypass[\"pw1\"] = \"1234\"\n",
    "mypass[\"pw2\"] = \"4321\"\n",
    "for i in mypass:\n",
    "    print(i,\" : \",mypass[i])\n",
    "\n",
    "# range function; creates a seq of numbers range(start,end+1,step)\n",
    "whole_num_till_9 = range(10)\n",
    "\n",
    "for i in range(5):\n",
    "    print(i)"
   ]
  },
  {
   "cell_type": "markdown",
   "metadata": {},
   "source": [
    "#### Chaining comparision operator"
   ]
  },
  {
   "cell_type": "code",
   "execution_count": null,
   "metadata": {},
   "outputs": [
    {
     "name": "stdout",
     "output_type": "stream",
     "text": [
      "True\n",
      "True\n",
      "False\n"
     ]
    }
   ],
   "source": [
    "a,b,c = 1,2,3\n",
    "print(a<b<c) # this means a<b and b<c\n",
    "#\">\" | \"<\" | \"==\" | \">=\" | \"<=\" | \"!=\" | \"is\" [\"not\"] | [\"not\"] \"in\"\n",
    "\n",
    "# Python code to Illustrate Chaining Comparison Operators\n",
    "print(a*10>c<b+5)\n",
    "print(a<b<c>10==10>=9+1+2!=3)"
   ]
  },
  {
   "cell_type": "markdown",
   "metadata": {},
   "source": [
    "### Functions"
   ]
  },
  {
   "cell_type": "code",
   "execution_count": null,
   "metadata": {},
   "outputs": [
    {
     "name": "stdout",
     "output_type": "stream",
     "text": [
      "365\n",
      "jhh,hiohasdkh\n",
      "365\n",
      "jhh,hiohasdkh\n",
      "Abhijit , Yadav\n",
      "Abhi \n",
      "Leo , Messi\n",
      "Abhi\n",
      "is my name\n",
      "shabuya\n",
      "shabuya roll call\n",
      "pw1 yoyo\n",
      "pw2 2pac\n",
      "This function takes multiple number of keyword arguments\n",
      "[10, 324, 45, 234, 2765] We can see that the fucntion altered the first elem of the list\n",
      "[234, 56, 789, 13, 42, 24] Here the new object was assigned so the initial list will not be altered\n",
      "64 normal function\n",
      "64 lamda function\n",
      "Filter number: Bond\n",
      "['e2', 'e2']\n",
      "That's what she said\n"
     ]
    }
   ],
   "source": [
    "# 2 ways to define funtions\n",
    "def addmethod1(num1,num2):\n",
    "    sum = num1 + num2\n",
    "    return sum\n",
    "\n",
    "def addmethod2(num1:int,num2:int)->int:\n",
    "    sum = num1+num2\n",
    "    return sum\n",
    "\n",
    "#call them\n",
    "print(addmethod1(123,242))\n",
    "print(addmethod1(\"jhh,hioh\",\"asdkh\"))\n",
    "print(addmethod2(123,242))\n",
    "print(addmethod2(\"jhh,hioh\",\"asdkh\"))# there is no point in defining the variable and return type\n",
    "\n",
    "#different types of arguments\n",
    "#defalut and keywords\n",
    "def concat(name1,name2=None):\n",
    "    print(name1,\"\" if name2 is None else \", \"+name2)\n",
    "\n",
    "concat(\"Abhijit\",\"Yadav\")\n",
    "concat(\"Abhi\")\n",
    "concat(name2=\"Messi\",name1=\"Leo\")\n",
    "#concat(name1=\"Em\",\"that white rapper\") will error as have to define all the arguemts name or nothing at all\n",
    "\n",
    "#multiple arguments\n",
    "def multiArg(*argmnt):\n",
    "    for argss in argmnt:\n",
    "        print(argss)\n",
    "\n",
    "multiArg(\"Abhi\",\"is my name\",\"shabuya\",\"shabuya roll call\")\n",
    "\n",
    "#with keywords and docstring\n",
    "def multiWithKey(**kargs):\n",
    "    \"\"\"This function takes multiple number of keyword arguments\"\"\"#this is the function desciption cal the document string\n",
    "    for key,value in kargs.items():\n",
    "        print(key,value)\n",
    "\n",
    "multiWithKey(pw1=\"yoyo\",pw2=\"2pac\")\n",
    "print(multiWithKey.__doc__)\n",
    "\n",
    "#pass by reference is default in python functions\n",
    "def func(lst,lst2):\n",
    "    lst[0]=10\n",
    "    lst2=[1,2,3,4,5]\n",
    "\n",
    "lst = [243,324,45,234,2765]\n",
    "lst2 =[234,56,789,13,42,24]\n",
    "func(lst,lst2)\n",
    "print(lst,\"We can see that the fucntion altered the first elem of the list\")  \n",
    "# but when the object is changed the ref link is broken same with integers\n",
    "print(lst2,\"Here the new object was assigned so the initial list will not be altered\")\n",
    "\n",
    "#lambda or anonymous functions\n",
    "def cube(x):return x**3\n",
    "lambdacube = lambda x:x*x*x\n",
    "print(cube(4),\"normal function\")\n",
    "print(lambdacube(4),\"lamda function\")\n",
    "\n",
    "filter_num = lambda s:\"\".join([ch for ch in s if not ch.isdigit()])\n",
    "print(\"Filter number:\",filter_num(\"Bond007\"))\n",
    "\n",
    "#lamda use\n",
    "def fun(variable): \n",
    "      \n",
    "    letters = ['a', 'e', 'i', 'o', 'u'] \n",
    "      \n",
    "    if (variable in letters): \n",
    "        return True\n",
    "    else: \n",
    "        return False\n",
    "\n",
    "sequence = ['g', 'e', 'e', 'j', 'k', 's', 'p', 'r']\n",
    "#filter using lambda\n",
    "filtered = [ch+\"2\" for ch in sequence if fun(ch)==True]\n",
    "print(filtered)\n",
    "\n",
    "\n",
    "#function within a function\n",
    "def fun1():\n",
    "    printit = \"That's what she said\"\n",
    "    def fun2():\n",
    "        print(printit)\n",
    "    fun2()\n",
    "\n",
    "fun1()"
   ]
  },
  {
   "cell_type": "markdown",
   "metadata": {},
   "source": [
    "### Function programming\n",
    "\n",
    "Any Functional programming language is expected to follow these concepts.\n",
    "\n",
    "Pure Functions: These functions have two main properties. First, they always produce the same output for the same arguments irrespective of anything else. Secondly, they have no side-effects i.e. they do modify any argument or global variables or output something.\n",
    "Recursion: There are no “for” or “while” loop in functional languages. Iteration in functional languages is implemented through recursion.\n",
    "Functions are First-Class and can be Higher-Order: First-class functions are treated as first-class variable. The first-class variables can be passed to functions as a parameter, can be returned from functions or stored in data structures.\n",
    "Variables are Immutable: In functional programming, we can’t modify a variable after it’s been initialized. We can create new variables – but we can’t modify existing variables.\n",
    "Functional Programming in Python\n",
    "Python too supports Functional Programming paradigms without the support of any special features or libraries.\n",
    "\n",
    "Pure Functions\n",
    "As Discussed above, pure functions have two properties.\n",
    "\n",
    "It always produces the same output for the same arguments. For example, 3+7 will always be 10 no matter what.\n",
    "It does not change or modifies the input variable."
   ]
  },
  {
   "cell_type": "code",
   "execution_count": null,
   "metadata": {},
   "outputs": [
    {
     "name": "stdout",
     "output_type": "stream",
     "text": [
      "10\n",
      "HEY HOW YOU DOIN...\n",
      "hey how you doin...\n",
      "['e2', 'e2']\n"
     ]
    }
   ],
   "source": [
    "# recursion\n",
    "def rec(lst):\n",
    "    if (len(lst)==1 and type(lst)is list  ):\n",
    "         return lst[0]\n",
    "    return lst[0]+rec(lst[1:])\n",
    "lst=[1,2,3,4]\n",
    "print(rec(lst))\n",
    "\n",
    "#higher order function\n",
    "def shout(txt):\n",
    "    return txt.upper()\n",
    "def whisper(txt):\n",
    "    return txt.lower()\n",
    "\n",
    "def greet(fun):\n",
    "    greeting = fun(\"Hey how you doin...\")\n",
    "    print(greeting)\n",
    "\n",
    "greet(shout)\n",
    "greet(whisper)\n",
    "\n",
    "#lamda use\n",
    "def fun(variable): \n",
    "      \n",
    "    letters = ['a', 'e', 'i', 'o', 'u'] \n",
    "      \n",
    "    if (variable in letters): \n",
    "        return True\n",
    "    else: \n",
    "        return False\n",
    "\n",
    "sequence = ['g', 'e', 'e', 'j', 'k', 's', 'p', 'r']\n",
    "#filter using lambda\n",
    "filtered = [ch+\"2\" for ch in sequence if fun(ch)==True]\n",
    "print(filtered)"
   ]
  },
  {
   "cell_type": "markdown",
   "metadata": {},
   "source": [
    "### local and global variable\n"
   ]
  },
  {
   "cell_type": "code",
   "execution_count": null,
   "metadata": {},
   "outputs": [
    {
     "name": "stdout",
     "output_type": "stream",
     "text": [
      "global :  1\n",
      "Inside f() :  1\n",
      "global :  1\n",
      "Inside g() :  2\n",
      "global :  1\n",
      "Inside h() :  3\n",
      "global :  3\n"
     ]
    }
   ],
   "source": [
    "\n",
    "a = 1\n",
    "  \n",
    "# Uses global because there is no local 'a'\n",
    "def f():\n",
    "    print('Inside f() : ', a)\n",
    "  \n",
    "# Variable 'a' is redefined as a local\n",
    "def g():\n",
    "    a = 2\n",
    "    print('Inside g() : ', a)\n",
    "  \n",
    "# Uses global keyword to modify global 'a'\n",
    "def h():\n",
    "    global a\n",
    "    a = 3\n",
    "    print('Inside h() : ', a)\n",
    "  \n",
    "  \n",
    "# Global scope\n",
    "print('global : ', a)\n",
    "f()\n",
    "print('global : ', a)\n",
    "g()\n",
    "print('global : ', a)\n",
    "h()\n",
    "print('global : ', a)"
   ]
  },
  {
   "cell_type": "markdown",
   "metadata": {},
   "source": [
    "### Exception handling\n",
    "try:\n",
    "    # Some Code.... \n",
    "\n",
    "except:\n",
    "    # optional block\n",
    "    # Handling of exception (if required)\n",
    "\n",
    "else:\n",
    "    # execute if no exception\n",
    "\n",
    "finally:\n",
    "    # Some code .....(always executed)"
   ]
  },
  {
   "cell_type": "code",
   "execution_count": null,
   "metadata": {},
   "outputs": [
    {
     "name": "stdout",
     "output_type": "stream",
     "text": [
      "('division by zero',)\n",
      "Please execute this at all cost\n"
     ]
    }
   ],
   "source": [
    "try:\n",
    "    div = 5/0\n",
    "    print(div)\n",
    "except Exception as e:\n",
    "    print(e.args)\n",
    "else:\n",
    "    print(\"No exception\")\n",
    "finally:\n",
    "    print(\"Please execute this at all cost\")"
   ]
  }
 ],
 "metadata": {
  "kernelspec": {
   "display_name": "Python 3.8.8 ('base')",
   "language": "python",
   "name": "python3"
  },
  "language_info": {
   "codemirror_mode": {
    "name": "ipython",
    "version": 3
   },
   "file_extension": ".py",
   "mimetype": "text/x-python",
   "name": "python",
   "nbconvert_exporter": "python",
   "pygments_lexer": "ipython3",
   "version": "3.8.8"
  },
  "orig_nbformat": 4,
  "vscode": {
   "interpreter": {
    "hash": "198dc38c81252feb4faa0d475279f5f6c993dd4570bd3709069413259282040c"
   }
  }
 },
 "nbformat": 4,
 "nbformat_minor": 2
}
