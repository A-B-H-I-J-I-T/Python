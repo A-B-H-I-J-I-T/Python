{
 "cells": [
  {
   "cell_type": "markdown",
   "metadata": {},
   "source": [
    "# Python basics"
   ]
  },
  {
   "cell_type": "code",
   "execution_count": 45,
   "metadata": {},
   "outputs": [
    {
     "name": "stdout",
     "output_type": "stream",
     "text": [
      "Hello World\n",
      "1.2\n",
      "[1, 'Hello', 3.4]\n",
      "[[11, 12, 5, 2], [15, 6, 10], [10, 8, 12, 5], [12, 15, 8, 6]]\n",
      "foo 2\n"
     ]
    }
   ],
   "source": [
    "#print\n",
    "print(\"Hello World\")\n",
    "print(1.2)\n",
    "#Python directly prints list without a for loop\n",
    "my_list = [1, \"Hello\", 3.4]\n",
    "print(my_list)\n",
    "#let us check on the 2d array\n",
    "arr = [[11, 12, 5, 2], [15, 6,10], [10, 8, 12, 5], [12,15,8,6]]\n",
    "print(arr)\n",
    "\"hello\"#Need to figur this out \n",
    "arr #Need to figur this out \n",
    "#Multiple argument\n",
    "y=2\n",
    "x = 'foo'\n",
    "print(x,y)"
   ]
  },
  {
   "cell_type": "markdown",
   "metadata": {},
   "source": [
    "## Lines and Identation\n",
    "#### Python does not use braces({}) to indicate blocks of code for class and function definitions or flow control. Blocks of code are denoted by line indentation, which is rigidly enforced."
   ]
  },
  {
   "cell_type": "code",
   "execution_count": 14,
   "metadata": {},
   "outputs": [
    {
     "name": "stdout",
     "output_type": "stream",
     "text": [
      "True\n"
     ]
    }
   ],
   "source": [
    "indentatn = True\n",
    "if indentatn:\n",
    "   print (\"True\")\n",
    "\n",
    "else:\n",
    "   print (\"False\")\n"
   ]
  },
  {
   "cell_type": "markdown",
   "metadata": {},
   "source": [
    "## Multi Line Statements"
   ]
  },
  {
   "cell_type": "code",
   "execution_count": 46,
   "metadata": {},
   "outputs": [
    {
     "name": "stdout",
     "output_type": "stream",
     "text": [
      "Ask?\n",
      "Python Programming\n",
      "\"Hi\" ABC\n",
      "Hello World!\n",
      "'Taj Mahal' is in Agra.\n",
      "He 'asked', \"did you \n",
      "speak with him?\"\n",
      "'''He 'asked', \"did you \n",
      "speak with him?\"'''\n",
      "foo 2\n"
     ]
    }
   ],
   "source": [
    "#Statements in Python typically end with a new line. Python, however, allows the use of the line continuation character (\\) to denote that the line should continue\n",
    "total = 1 \\\n",
    "    +2+ \\\n",
    "        4\n",
    "\n",
    "#Quotation in Python\n",
    "#Python accepts single ('), double (\") and triple (''' or \"\"\") quotes to denote string literals, as long as the same type of quote starts and ends the string.\n",
    "\n",
    "#Single quote\n",
    "#Double Quote can be contained in the single\n",
    "word = 'Ask?'\n",
    "print(word)\n",
    "sentence = 'Python Programming'\n",
    "print(sentence)\n",
    "name = '\"Hi\" ABC'\n",
    "print(name)\n",
    "#error because only 3 quotes\n",
    "# congrat = 'We congrat's you.'               \n",
    "# print(congrat)\n",
    "\n",
    "#Double Quote\n",
    "#Single quote can be contained in Double\n",
    "wish = \"Hello World!\"\n",
    "print(wish)\n",
    "#error\n",
    "# hey = \"AskPython says \"Hi\"\"\n",
    "# print(hey)\n",
    "famous =\"'Taj Mahal' is in Agra.\"\n",
    "print(famous)\n",
    "\n",
    "# Triple Quote\n",
    "#both single and double quote can be contained in triple\n",
    "sentence1 = '''He 'asked', \"did you \n",
    "speak with him?\"'''\n",
    "print(sentence1)\n",
    "sentence1 = \"\"\"'''He 'asked', \"did you \n",
    "speak with him?\"'''\"\"\"\n",
    "print(sentence1)\n",
    "\n",
    "#Multiple statement in single line \n",
    "#use a semicolon ;\n",
    "y=2; x = 'foo'; print(x,y)\n",
    "\n"
   ]
  }
 ],
 "metadata": {
  "kernelspec": {
   "display_name": "Python 3.8.8 ('base')",
   "language": "python",
   "name": "python3"
  },
  "language_info": {
   "codemirror_mode": {
    "name": "ipython",
    "version": 3
   },
   "file_extension": ".py",
   "mimetype": "text/x-python",
   "name": "python",
   "nbconvert_exporter": "python",
   "pygments_lexer": "ipython3",
   "version": "3.8.8"
  },
  "orig_nbformat": 4,
  "vscode": {
   "interpreter": {
    "hash": "198dc38c81252feb4faa0d475279f5f6c993dd4570bd3709069413259282040c"
   }
  }
 },
 "nbformat": 4,
 "nbformat_minor": 2
}
