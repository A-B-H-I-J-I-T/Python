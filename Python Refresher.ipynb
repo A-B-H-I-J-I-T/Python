{
 "cells": [
  {
   "cell_type": "markdown",
   "metadata": {},
   "source": [
    "# Python basics"
   ]
  },
  {
   "cell_type": "code",
   "execution_count": 1,
   "metadata": {},
   "outputs": [
    {
     "name": "stdout",
     "output_type": "stream",
     "text": [
      "Hello World\n",
      "1.2\n",
      "[1, 'Hello', 3.4]\n",
      "[[11, 12, 5, 2], [15, 6, 10], [10, 8, 12, 5], [12, 15, 8, 6]]\n",
      "foo 2\n"
     ]
    }
   ],
   "source": [
    "#print\n",
    "print(\"Hello World\")\n",
    "print(1.2)\n",
    "#Python directly prints list without a for loop\n",
    "my_list = [1, \"Hello\", 3.4]\n",
    "print(my_list)\n",
    "#let us check on the 2d array\n",
    "arr = [[11, 12, 5, 2], [15, 6,10], [10, 8, 12, 5], [12,15,8,6]]\n",
    "print(arr)\n",
    "\"hello\"#Need to figur this out \n",
    "arr #Need to figur this out \n",
    "#Multiple argument\n",
    "y=2\n",
    "x = 'foo'\n",
    "print(x,y)"
   ]
  },
  {
   "cell_type": "markdown",
   "metadata": {},
   "source": [
    "## Lines and Identation\n",
    "#### Python does not use braces({}) to indicate blocks of code for class and function definitions or flow control. Blocks of code are denoted by line indentation, which is rigidly enforced."
   ]
  },
  {
   "cell_type": "code",
   "execution_count": 2,
   "metadata": {},
   "outputs": [
    {
     "name": "stdout",
     "output_type": "stream",
     "text": [
      "True\n"
     ]
    }
   ],
   "source": [
    "indentatn = True\n",
    "if indentatn:\n",
    "   print (\"True\")\n",
    "\n",
    "else:\n",
    "   print (\"False\")\n"
   ]
  },
  {
   "cell_type": "markdown",
   "metadata": {},
   "source": [
    "## Multi Line Statements"
   ]
  },
  {
   "cell_type": "code",
   "execution_count": 3,
   "metadata": {},
   "outputs": [
    {
     "name": "stdout",
     "output_type": "stream",
     "text": [
      "Ask?\n",
      "Python Programming\n",
      "\"Hi\" ABC\n",
      "Hello World!\n",
      "'Taj Mahal' is in Agra.\n",
      "He 'asked', \"did you \n",
      "speak with him?\"\n",
      "'''He 'asked', \"did you \n",
      "speak with him?\"'''\n",
      "foo 2\n"
     ]
    }
   ],
   "source": [
    "#Statements in Python typically end with a new line. Python, however, allows the use of the line continuation character (\\) to denote that the line should continue\n",
    "total = 1 \\\n",
    "    +2+ \\\n",
    "        4\n",
    "\n",
    "#Quotation in Python\n",
    "#Python accepts single ('), double (\") and triple (''' or \"\"\") quotes to denote string literals, as long as the same type of quote starts and ends the string.\n",
    "\n",
    "#Single quote\n",
    "#Double Quote can be contained in the single\n",
    "word = 'Ask?'\n",
    "print(word)\n",
    "sentence = 'Python Programming'\n",
    "print(sentence)\n",
    "name = '\"Hi\" ABC'\n",
    "print(name)\n",
    "#error because only 3 quotes\n",
    "# congrat = 'We congrat's you.'               \n",
    "# print(congrat)\n",
    "\n",
    "#Double Quote\n",
    "#Single quote can be contained in Double\n",
    "wish = \"Hello World!\"\n",
    "print(wish)\n",
    "#error\n",
    "# hey = \"AskPython says \"Hi\"\"\n",
    "# print(hey)\n",
    "famous =\"'Taj Mahal' is in Agra.\"\n",
    "print(famous)\n",
    "\n",
    "# Triple Quote\n",
    "#both single and double quote can be contained in triple\n",
    "sentence1 = '''He 'asked', \"did you \n",
    "speak with him?\"'''\n",
    "print(sentence1)\n",
    "sentence1 = \"\"\"'''He 'asked', \"did you \n",
    "speak with him?\"'''\"\"\"\n",
    "print(sentence1)\n",
    "\n",
    "#Multiple statement in single line \n",
    "#use a semicolon ;\n",
    "y=2; x = \"foo\"; print(x,y)\n"
   ]
  },
  {
   "cell_type": "markdown",
   "metadata": {},
   "source": [
    "### Standard Datatype and Variables"
   ]
  },
  {
   "cell_type": "code",
   "execution_count": 4,
   "metadata": {},
   "outputs": [
    {
     "name": "stdout",
     "output_type": "stream",
     "text": [
      "before change Print a bc ... (1.333+1j) 2 whatup 2 whatup\n",
      "After change d&e Print a bc ... (1.333+1j) 2 whatup 3 whatsup\n",
      "-34 -3.22 3e+26j\n",
      "Hello frendz chai pilo\n",
      "l\n",
      "o\n",
      "lpih defolH\n",
      "Hello frendz chai piloHello frendz chai piloHello frendz chai pilo\n",
      "Hello frendz chai pilo12334e\n",
      "['sdkh', 345, 212.33, (2+3j)]\n",
      "['sdkh', 345, 212.33, (2+3j), 'sdkh', 345, 212.33, (2+3j)]\n",
      "[(2+3j), 212.33, 345, 'sdkh']\n",
      "[345, 'sdkh', 345, 212.33, (2+3j)]\n",
      "(12, 432.4234, 'adsfghsdkjh', [12123, 234234, 2342134])\n",
      "(12, 432.4234, 'adsfghsdkjh', [12123, 234234, 2342134], 12, 432.4234, 'adsfghsdkjh', [12123, 234234, 2342134])\n",
      "([12123, 234234, 2342134], 'adsfghsdkjh', 432.4234, 12)\n",
      "(432.4234, 12, 432.4234, 'adsfghsdkjh', [12123, 234234, 2342134])\n",
      "{1: 'Abhi', 2: 'Yadav', 3: [1, 2, 3], (1+8j): (1, 2, 3), (4, 5): 34.5}\n",
      "Abhi\n",
      "34.5\n",
      "{1: 'Abhi', 2: 'Ramsajivan Yadav', 3: [1, 2, 3], (1+8j): (1, 2, 3), (4, 5): 34.5}\n"
     ]
    }
   ],
   "source": [
    "# variable assigment, it is dynamic, no need of explicit assigment\n",
    "var1 = 1\n",
    "#multiple assigment\n",
    "a, b, c = 1.333+1j, 2,\"whatup\"\n",
    "d = b;e=c\n",
    "print(\"before change Print a bc ...\",a,b,c,d,e)\n",
    "d=3;e=\"whatsup\"\n",
    "print(\"After change d&e Print a bc ...\",a,b,c,d,e)\n",
    "# find the type of the variable\n",
    "type(a)\n",
    "\n",
    "#Data type numbers\n",
    "var1, var2, var3 = -34,-32.2E-1,3e+26J\n",
    "print(var1, var2, var3)\n",
    "# delete a ref from variables\n",
    "del var1,var2\n",
    "#print(var1, var2, var3) this will cause an error as var1 and var 2 ref was deleted\n",
    "\n",
    "#Strings \n",
    "# Strings in Python are identified as a contiguous set of characters represented in the quotation marks. \n",
    "# Python allows either pair of single or double quotes. Subsets of strings can be taken using the slice operator ([ ] and [:] )\n",
    "#  with indexes starting at 0 in the beginning of the string and working their way from -1 to the end.\n",
    "#The plus (+) sign is the string concatenation operator and the asterisk (*) is the repetition operator\n",
    "\n",
    "str = \"Hello frendz chai pilo\"\n",
    "print(str)\n",
    "print(str[3])\n",
    "print(str[-1])\n",
    "#indexing in strings string[Start:End:StepSize&Direction]\n",
    "#if the field is blank means till the end or step size default which is 1\n",
    "print(str[-2::-2]) \n",
    "print(str * 3) # print the string 3 times\n",
    "print(str +\"12334e\") # Concat\n",
    "\n",
    "# List\n",
    "# Lists are the most versatile of Python's compound data types. A list contains items separated by commas and enclosed within \n",
    "# square brackets ([]). To some extent, lists are similar to arrays in C. One of the differences between them is that all the items \n",
    "# belonging to a list can be of different data type.\n",
    "# all the indexing same as String\n",
    "list = [\"sdkh\",123,212.33,2+3j]\n",
    "list[1] = 345\n",
    "print(list)\n",
    "print(list*2) # the conteny are printed twice\n",
    "print(list[-1::-1])\n",
    "print(list[1:2]+list)\n",
    "\n",
    "# Tuple\n",
    "# The main difference between lists and tuples are − Lists are enclosed in brackets ( [ ] ) and their elements and size can be changed,\n",
    "#  while tuples are enclosed in parentheses ( ( ) ) and cannot be updated. Tuples can be thought of as read-only lists.\n",
    "tuple = (12,432.4234,\"adsfghsdkjh\",[12123,234234,2342134])\n",
    "# tuple[0] = 123 error as tuple are read only\n",
    "print(tuple)\n",
    "print(tuple*2) # the conteny are printed twice\n",
    "print(tuple[-1::-1])\n",
    "print(tuple[1:2]+tuple)\n",
    "\n",
    "\n",
    "#Dictionary\n",
    "# Python's dictionaries are kind of hash-table type. They work like associative arrays or hashes found in Perl and consist of key-value pairs.\n",
    "#  A dictionary key can be almost any Python type, but are usually numbers or strings. Values, on the other hand, can be any arbitrary Python object.\n",
    "# Dictionaries are enclosed by curly braces ({ }) and values can be assigned and accessed using square braces ([]).\n",
    "dict = {1:\"Abhi\",2:\"Yadav\",3:[1,2,3],1+8j:(1,2,3),(4,5):34.5}\n",
    "print(dict)\n",
    "print(dict[1])\n",
    "print(dict[(4,5)])\n",
    "dict[2]=\"Ramsajivan Yadav\"\n",
    "print(dict)"
   ]
  },
  {
   "cell_type": "markdown",
   "metadata": {},
   "source": [
    "### Operators"
   ]
  },
  {
   "cell_type": "code",
   "execution_count": 6,
   "metadata": {},
   "outputs": [
    {
     "name": "stdout",
     "output_type": "stream",
     "text": [
      "Arthmetic:\n",
      "Addition 5\n",
      "Subtraction -1\n",
      "Mul 6\n",
      "Division 0.6666666666666666\n",
      "Mod 2\n",
      "Exponent 8\n",
      "Floor Division (--> -infinity) 0 \n",
      "\n",
      "Comparision:\n",
      "equal (Can compare with int and string) False\n",
      "not equal (Can compare with int and string) True\n",
      "Greater (Does not support int string) True\n",
      "Lessthan (Does not support int string) True\n",
      "Greater or equal (Does not support int string) False\n",
      "Lessthan (Does not support int string) True\n",
      "BitAnd  12\n",
      "left Shift 52\n",
      "right shift 6\n",
      "Logical AND False\n",
      "in operator list:  True\n",
      "in operator string:  False\n",
      "1361120860544 1361124445696\n",
      "is operator: False\n"
     ]
    }
   ],
   "source": [
    "#Arithmetic \n",
    "a = 2; b=3;f=\"what\"\n",
    "print(\"Arthmetic:\\nAddition\",a+b)\n",
    "print(\"Subtraction\", a-b)\n",
    "print(\"Mul\",a*b)\n",
    "print(\"Division\",a/b)\n",
    "print(\"Mod\", a%b)\n",
    "print(\"Exponent\",a**b)\n",
    "print(\"Floor Division (--> -infinity)\",a//b,\"\\n\")\n",
    "\n",
    "#Comparision\n",
    "c = \"kallo2\";d=\"hallo845\";e=c\n",
    "print(\"Comparision:\\nequal (Can compare with int and string)\", a==c)\n",
    "print(\"not equal (Can compare with int and string)\",a != c)\n",
    "print(\"Greater (Does not support int string)\",c>d) #this will do char wise comparision for strings\n",
    "print(\"Lessthan (Does not support int string)\",a<b)\n",
    "print(\"Greater or equal (Does not support int string)\",a>=b)\n",
    "print(\"Lessthan (Does not support int string)\",a<b)\n",
    "\n",
    "#Assigment operator\n",
    "# = , +=, -=, *=, /=, %=, **=, //=\n",
    "\n",
    "#Bitwise: here the binary conversion happens then the bitwise AND is performed  \n",
    "a=60 ; b=13\n",
    "print(\"BitAnd \",a&b)\n",
    "#for Or: |  Xor: ^ Compliment: ~\n",
    "print(\"left Shift\",b<<2) #normal shift operation not round robin\n",
    "print(\"right shift\",b>>1)\n",
    "\n",
    "#Logical:\n",
    "print(\"Logical AND\", True and False )\n",
    "#print(\"Logical AND\", 2 and 3 ) need to check on this\n",
    "#others: or, not\n",
    "\n",
    "#membership:\n",
    "list = [1,2,42,\"hi\",[1,2]]\n",
    "str = \"Guess who's back\"\n",
    "print(\"in operator list: \",[1,2] in list )\n",
    "print(\"in operator string: \",\"Guess2\" in str )\n",
    "#similar for tuple and (not in) operator\n",
    "\n",
    "#identity operator\n",
    "#Identity operators compare the memory locations of two objects if id(a)==id(b) it returns True\n",
    "a = [1,2,3];b=a\n",
    "c=[1,2,3]\n",
    "print(id(a),id(c))\n",
    "print(\"is operator:\",a is c)# not working as expected with int and string\n",
    "#others: is not"
   ]
  },
  {
   "cell_type": "markdown",
   "metadata": {},
   "source": [
    "### Decision making"
   ]
  },
  {
   "cell_type": "code",
   "execution_count": 13,
   "metadata": {},
   "outputs": [
    {
     "name": "stdout",
     "output_type": "stream",
     "text": [
      "it is 20\n",
      "val is less than 30\n",
      "it is some number\n",
      "it is some number\n"
     ]
    }
   ],
   "source": [
    "#short hand if\n",
    "val = 20\n",
    "if(val == 20): print(\"it is 20\")\n",
    "#short hand if else (Kind of a ternary operator)\n",
    "print(\"val is greater than 30\") if val>30 else print(\"val is less than 30\")\n",
    "#if else\n",
    "if(val == 19):\n",
    "    print(\"It is 19\")\n",
    "else:\n",
    "    print(\"it is some number\")\n",
    "#elif stat\n",
    "if(val == 19):\n",
    "    print(\"it is 19\")\n",
    "elif(val == 18):\n",
    "    print(\"it is 18\")\n",
    "else:\n",
    "    print(\"it is some number\")\n"
   ]
  }
 ],
 "metadata": {
  "kernelspec": {
   "display_name": "Python 3.8.8 ('base')",
   "language": "python",
   "name": "python3"
  },
  "language_info": {
   "codemirror_mode": {
    "name": "ipython",
    "version": 3
   },
   "file_extension": ".py",
   "mimetype": "text/x-python",
   "name": "python",
   "nbconvert_exporter": "python",
   "pygments_lexer": "ipython3",
   "version": "3.8.8"
  },
  "orig_nbformat": 4,
  "vscode": {
   "interpreter": {
    "hash": "198dc38c81252feb4faa0d475279f5f6c993dd4570bd3709069413259282040c"
   }
  }
 },
 "nbformat": 4,
 "nbformat_minor": 2
}
